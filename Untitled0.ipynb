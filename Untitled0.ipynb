{
  "nbformat": 4,
  "nbformat_minor": 0,
  "metadata": {
    "colab": {
      "provenance": []
    },
    "kernelspec": {
      "name": "python3",
      "display_name": "Python 3"
    },
    "language_info": {
      "name": "python"
    }
  },
  "cells": [
    {
      "cell_type": "code",
      "execution_count": 19,
      "metadata": {
        "colab": {
          "base_uri": "https://localhost:8080/"
        },
        "id": "MX696XpGLxf0",
        "outputId": "d7577928-35ce-43ab-db6d-8a508e431497"
      },
      "outputs": [
        {
          "output_type": "stream",
          "name": "stdout",
          "text": [
            "Введите ваши фамилию, имя, отчествоИван Иванов Иванович\n",
            "Сколько вам лет30 \n",
            "Где вы живете ? тайга\n",
            "Ваше имя Иван Иванов Иванович\n",
            "Ваш возраст 30 \n",
            "Вы живете в  тайга\n"
          ]
        }
      ],
      "source": [
        "a=input(\"Введите ваши фамилию, имя, отчество\")\n",
        "b=input(\"Сколько вам лет\")\n",
        "c=input(\"Где вы живете ?\")\n",
        "print(\"Ваше имя\",a)\n",
        "print(\"Ваш возраст\",b)\n",
        "print(\"Вы живете в\",c)\n",
        "\n"
      ]
    }
  ]
}